{
 "cells": [
  {
   "cell_type": "markdown",
   "metadata": {},
   "source": [
    "# Passivity Index of Chen System \n",
    "\n",
    "## Network \n",
    "\n",
    "Consider the network given by \n",
    "$$\n",
    "\\begin{aligned} \n",
    "    \\dot{x}_i = f(x_i) + \\epsilon \\sum_{j = 1}^{n} \\xi_{ij} P x_j \\quad i = 1, 2, \\ldots, n \n",
    "\\end{aligned}\n",
    "$$\n",
    "Here $x_i \\in \\mathbb{R}^d$ is the state of the $i$-th node, $\\epsilon$ is the coupling strength. If there exist coupling between node $i$ and $j$, then $\\xi_{ij} \\neq 0$, otherwise, $\\xi = 0$. $P \\in \\mathbb{R}^{d \\times d}$ determines the by which state variables the nodes are connected. $f: \\mathbb{R}^d \\mapsto \\mathbb{R}^d$ determines the individual nodes dynamics. \n",
    "\n",
    "## Passivity Index \n",
    "\n",
    "The passivity index is defined as \n",
    "$$\n",
    "\\theta = \\lambda_{max}\\left( \\dfrac{K + K^T}{2} \\right)\n",
    "$$\n",
    "where $K \\in \\mathbb{R}^{d \\times d}$. $\\lambda_{max}(Q)$ denotes the largest eigenvalue of $Q$.\n",
    "\n",
    "For the network given above, we assume there exist a matrix $K$ such that \n",
    "$$\n",
    "(x - y)^T (f(x) - f(y)) \\leq (x - y)^T K P (x - y) \\quad \\forall x, y \\in \\mathbb{R}^d\n",
    "$$"
   ]
  },
  {
   "cell_type": "markdown",
   "metadata": {},
   "source": [
    "\n",
    "## Passivity Index of Chen System \n",
    "Note that the passivity index $\\theta$ is determined by the individual node dynamics $f$. Consider the Chen system given as, \n",
    "$$\n",
    "\\dot{x} = f(x) = \n",
    "\\begin{bmatrix} \n",
    "    \\dot{x}_1 \\\\ \n",
    "    \\dot{x}_2 \\\\ \n",
    "    \\dot{x}_3 \\\\\n",
    "\\end{bmatrix}\n",
    "\\begin{bmatrix} \n",
    "    35 (x_2 - x_1) \\\\ \n",
    "    -7 x_1 - x_1 x_3 + 28 x_2 \\\\ \n",
    "    x_1 x_2 - 3 x_2 \\\\\n",
    "\\end{bmatrix}\n",
    "$$\n",
    "where $x = [x_1, x_2, x_3]$. Consider also a special solution $s$ such that $\\dot{s} = f(s)$, where $s = [s_1, s_2, s_3]$. With numerical simulations, it can found that there exists constants $M_1 = 23, M_2 = 32, M_3 = 61$ such that $|s_1| < M_1, |s_2| < M_2, |s_3| < M_3$. \n",
    "\n",
    "Let us define $e = x - s$ where $e = [e_1, e_2, e_3]$. Then we have, \n",
    "$$\n",
    "(x - s)^T (f(x) - f(s)) = \n",
    "\\begin{bmatrix} \n",
    "    e_1 \\\\ e_2 \\\\ e_3\n",
    "\\end{bmatrix}^T\n",
    "\\begin{bmatrix} \n",
    "    35 e_2 - 35 e_1 \\\\ \n",
    "    -7 e_1 + 28 e_2 - x_1 x_3 + s_1 s_3 \\\\ \n",
    "    -3 e_3 + x_1 x_2 - s_1 s_2 \\\\ \n",
    "\\end{bmatrix}\n",
    "$$\n",
    "\n",
    "$$\n",
    "\\begin{aligned}\n",
    "(x - s)^T (f(x) - f(s)) &= 35 e_2 e_1 - 35 e_1^2 - 7 e_1 e_2 + 28 e_2^2 - x_1 x_3 e_2 + s_1 s_3 e_2 -3e_3^2 + x_1 x_2 e_3 - s_1 s_2 e_3 \\\\ \n",
    "&= -35 e_1^2 + 28 e_2^2 - 3 e_3^2 + 28 e_1 e_2 - x_1 x_3 e_2 + s_1 s_3 e_2 + x_1 x_2 e_3 - s_1 s_2 e_3 \\\\\n",
    "&= -35 e_1^2 + 28 e_2^2 - 3 e_3^2 + 28 e_1 e_2  - x_1 x_3 (x_2 - s_2) + s_1 s_3 (x_2 - s_2) + x_1 x_2 (x_3 - s_3) - s_1 s_2 (x_3 - s_3) \\\\\n",
    "&= -35 e_1^2 + 28 e_2^2 - 3 e_3^2 + 28 e_1 e_2 - x_1 x_3 x_2 + x_1 x_3 s_2 + s_1 s_3 x_2  -s_1 s_3 s_2 + x_1 x_2 x_3 - x_1 x_2 s_3 - s_1 s_2 x_3 + s_1 s_2 s_3 \\\\\n",
    "&= -35 e_1^2 + 28 e_2^2 - 3 e_3^2 + 28 e_1 e_2 + x_1 x_3 s_2 + s_1 s_3 x_2 - x_1 x_2 s_3 - s_1 s_2 x_3  \\\\\n",
    "&= -35 e_1^2 + 28 e_2^2 - 3 e_3^2 + 28 e_1 e_2 + x_3 s_2(x_1 - s_1) + s_3 x_2(s_1 - x_1) \\\\\n",
    "&= -35 e_1^2 + 28 e_2^2 - 3 e_3^2 + 28 e_1 e_2 + x_3 s_2 e_1 - s_3 x_2 e_1 \\pm s_3 s_2 s_1 \\\\\n",
    "&= -35 e_1^2 + 28 e_2^2 - 3 e_3^2 + 28 e_1 e_2 + s_2 e_1 e_3 + s_3 e_1 e_2 \\\\\n",
    "\\end{aligned} \n",
    "$$"
   ]
  },
  {
   "cell_type": "markdown",
   "metadata": {},
   "source": [
    "Using the inequlaties, \n",
    "$$\n",
    "\\begin{aligned} \n",
    "(x - y)^T (f((x) - f(y)) &\\leq -35 e_1^2 + (28 + M_1)|e_1 e_2| + 28 e_2^2 - 3 e_3^2 + M_2 |e_1 e_3|\n",
    "\\end{aligned}\n",
    "$$\n",
    "We also have \n",
    "$$ \n",
    "0 \\leq (\\eta - 1)^2 M_2 = (\\eta^2 - 2 \\eta + 1) M_2 \\quad \\Rightarrow \\quad M_2 \\leq \\eta\\dfrac{M_2}{2} + \\dfrac{M_2}{2\\eta}\n",
    "$$\n"
   ]
  },
  {
   "cell_type": "markdown",
   "metadata": {},
   "source": [
    "Then we have\n",
    "$$ \n",
    "(x - y)^T (f(x) - f(y)) \\leq \\left( -35 + \\rho \\dfrac{28 + M_3}{2} + \\eta \\dfrac{M_2}{2} \\right) e_1^2 + \\left(  28 + \\dfrac{28 + M_3}{2\\rho} \\right) e_2^2 + \\left( -3 + \\dfrac{M_2}{2\\eta} \\right) e_3^2\n",
    "$$ "
   ]
  },
  {
   "cell_type": "markdown",
   "metadata": {},
   "source": [
    "If we have $P = diag(1, 2, 1)$, then \n",
    "$$\n",
    "(x - y)^(f(x) - f(y)) \\leq \\theta (e_1^2 + e_2^2 + e_3^2) \n",
    "$$"
   ]
  },
  {
   "cell_type": "markdown",
   "metadata": {},
   "source": [
    "Choosing $\\rho = 1.3139, \\eta = 0.4715$, we can find $\\theta = 30.9342$"
   ]
  },
  {
   "cell_type": "code",
   "execution_count": null,
   "metadata": {},
   "outputs": [],
   "source": []
  }
 ],
 "metadata": {
  "kernelspec": {
   "display_name": "Julia 1.6.0",
   "language": "julia",
   "name": "julia-1.6"
  },
  "language_info": {
   "file_extension": ".jl",
   "mimetype": "application/julia",
   "name": "julia",
   "version": "1.6.0"
  }
 },
 "nbformat": 4,
 "nbformat_minor": 4
}
