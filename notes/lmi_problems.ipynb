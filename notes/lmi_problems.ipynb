{
 "cells": [
  {
   "cell_type": "markdown",
   "metadata": {},
   "source": [
    "# Notes \n",
    "\n",
    "## We cannot formulate the inequality assumptions in the pinning control problems as a semidefinite programming problem\n",
    "\n",
    "Consider the network given as \n",
    "$$\n",
    "\\dot{x}_i = f(x_i) + \\epsilon \\sum_{j = 1}^n \\xi_{ij} P x_j \\quad i = 1, 2, \\ldots, n\n",
    "$$\n",
    "where $f: \\mathbb{R}^d \\mapsto \\mathbb{R}^d$ is the function corresponding to the node dynamics and the diagonal matrix $P = diag(p_1, p_2, \\ldots, p_d)$ is the inner coupling matrix. \n",
    "\n",
    "In the pinning control analysis of this network, we assume that there exist a symmetric matrix $K$ such that \n",
    "$$\n",
    "(x - y)^T (f(x) - f(y)) \\leq (x-y)^T K P (x - y) \\quad \\forall x, y \\in \\mathbb{R}^d \\tag{1}\n",
    "$$\n",
    "Here the node dynamics function $f$ and the inner coupling matrix $P$ determines $K$. At first using optimization techniques such as semi-definite programming (SDP) can be used the matrix $K$. The problem can be formulated as a feasibility problem subjected a linear matrix inequality (LMI). An LMI is given as \n",
    "$$\n",
    "L(x) = F_0 + \\sum_{i = 1}^m x_i F_i\n",
    "$$\n",
    "where $x = [x_1, x_2, \\ldots, x_m]$ is the optimization variable and $F_i = F_i^T, i = 1, 2, \\ldots, m$ are the constant symmetric matrices. \n",
    "\n",
    "The problem here is that the inequality in (1) cannot be formulated as and LMI because of the term $f(x) - f(y)$. This implies that the variables $x$ and $y$ must be optimization variables, which in turn makes the optimization problem not semi-definite programming.\n"
   ]
  },
  {
   "cell_type": "markdown",
   "metadata": {},
   "source": [
    "## The problem is not feasible for full synchronization of networks using pinning control \n",
    "\n",
    "Consider the network given above. For the full synhronization of the network the condition\n",
    "$$\n",
    "\\Omega = \\theta I_d + \\epsilon (\\Xi - A) < 0 \\tag{2}\n",
    "$$ \n",
    "where $\\theta = \\lambda_{max}\\left((K + K^T) / 2\\right)$, $A = diag(\\alpha_1, \\alpha_2, \\ldots, \\alpha_l, 0, 0, \\ldots, 0)$. Thus the matrix $A$ is diagonal matrix with first $l$ diagonal entries are positive. $l$ is the number of pinned nodes.  "
   ]
  },
  {
   "cell_type": "markdown",
   "metadata": {},
   "source": [
    "We have an LMI in (2) and we can find the matrix $A$ by solving a feasiblity problem(an optimization problem with no objective function) subjected to and LMI condition. So we have \n",
    "$$\n",
    "\\begin{aligned} \n",
    "    \\text{minimmize } & 0 \\\\ \n",
    "    \\text{s. t} \\quad  & \\Gamma - \\tilde{A} \\leq 0\n",
    "\\end{aligned}\n",
    "$$\n",
    "where $\\Gamma = \\theta I_d - \\epsilon A$ and $\\tilde{A} = \\epsilon A$. However, the problem is not feasible as can be seen from the below script."
   ]
  },
  {
   "cell_type": "code",
   "execution_count": 2,
   "metadata": {},
   "outputs": [
    {
     "name": "stdout",
     "output_type": "stream",
     "text": [
      "termination_status(model) = MathOptInterface.INFEASIBLE\n"
     ]
    },
    {
     "data": {
      "text/plain": "INFEASIBLE::TerminationStatusCode = 2"
     },
     "execution_count": 2,
     "metadata": {},
     "output_type": "execute_result"
    }
   ],
   "source": [
    "using LightGraphs\n",
    "using JuMP \n",
    "using SCS\n",
    "using LinearAlgebra\n",
    "using Test \n",
    "\n",
    "# Network settings \n",
    "numnodes = 10 \n",
    "dimnodes = 3\n",
    "numpins = 8\n",
    "θ = 10. \n",
    "ϵ = 1. \n",
    "graph = star_graph(numnodes)\n",
    "Ξ = -collect(-laplacian_matrix(graph))\n",
    "Γ = θ * I(numnodes) - ϵ * Ξ\n",
    "\n",
    "# LMI solution \n",
    "model = Model(SCS.Optimizer) \n",
    "set_silent(model)\n",
    "@variable(model, A[1 : numnodes, 1 : numnodes], PSD) \n",
    "@SDconstraint(model, Γ - A ≤ 0)    # Ω = Γ - A ≤ 0\n",
    "@SDconstraint(model, A ≥ 0 )    # A ≥ 0 \n",
    "for i in numpins + 1 : numnodes \n",
    "    @constraint(model, A[i, i] == 0)\n",
    "end \n",
    "for i = 1 : numnodes\n",
    "    for j in 1 : numnodes \n",
    "        if i ≠ j \n",
    "            # Off diagonal elements are zero.\n",
    "            @constraint(model, A[i, j] == 0)\n",
    "        end \n",
    "    end\n",
    "end\n",
    "optimize!(model)\n",
    "A = value.(A)\n",
    "@show termination_status(model)"
   ]
  },
  {
   "cell_type": "markdown",
   "metadata": {},
   "source": [
    "Note that the first $l$ diagonal entries of $A$ is nonzero and this condition makes the problem infeasible. If these constraints are deleted, then the problem is feasible agian and an optimal solution can be found. This can be seen from the script below. "
   ]
  },
  {
   "cell_type": "code",
   "execution_count": 7,
   "metadata": {},
   "outputs": [
    {
     "name": "stdout",
     "output_type": "stream",
     "text": [
      "termination_status(model) = MathOptInterface.OPTIMAL\n",
      "issymmetric(Ω) = true\n",
      "all(eigvals(Ω) .< 0) = true\n"
     ]
    },
    {
     "data": {
      "text/plain": "true"
     },
     "execution_count": 7,
     "metadata": {},
     "output_type": "execute_result"
    }
   ],
   "source": [
    "using LightGraphs\n",
    "using JuMP \n",
    "using SCS\n",
    "using LinearAlgebra\n",
    "using Test \n",
    "\n",
    "# Network settings \n",
    "numnodes = 10 \n",
    "dimnodes = 3\n",
    "numpins = 8\n",
    "θ = 10. \n",
    "ϵ = 1. \n",
    "graph = star_graph(numnodes)\n",
    "Ξ = -collect(-laplacian_matrix(graph))\n",
    "Γ = θ * I(numnodes) - ϵ * Ξ\n",
    "\n",
    "# LMI solution \n",
    "model = Model(SCS.Optimizer) \n",
    "set_silent(model)\n",
    "@variable(model, A[1 : numnodes, 1 : numnodes], PSD) \n",
    "@SDconstraint(model, Γ - A ≤ 0)    # Ω = Γ - A ≤ 0\n",
    "@SDconstraint(model, A ≥ 0 )    # A ≥ 0 \n",
    "# for i in numpins + 1 : numnodes \n",
    "#     @constraint(model, A[i, i] == 0)\n",
    "# end \n",
    "for i = 1 : numnodes\n",
    "    for j in 1 : numnodes \n",
    "        if i ≠ j \n",
    "            # Off diagonal elements are zero.\n",
    "            @constraint(model, A[i, j] == 0)\n",
    "        end \n",
    "    end\n",
    "end\n",
    "optimize!(model)\n",
    "A = value.(A)\n",
    "@show termination_status(model)\n",
    "\n",
    "Ω = Γ  - A \n",
    "@show issymmetric(Ω)\n",
    "@show all(eigvals(Ω) .< 0)"
   ]
  },
  {
   "cell_type": "code",
   "execution_count": null,
   "metadata": {},
   "outputs": [],
   "source": []
  }
 ],
 "metadata": {
  "kernelspec": {
   "display_name": "Julia 1.6.0",
   "language": "julia",
   "name": "julia-1.6"
  },
  "language_info": {
   "file_extension": ".jl",
   "mimetype": "application/julia",
   "name": "julia",
   "version": "1.6.0"
  },
  "orig_nbformat": 2
 },
 "nbformat": 4,
 "nbformat_minor": 2
}